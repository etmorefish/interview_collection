{
 "cells": [
  {
   "cell_type": "code",
   "execution_count": 38,
   "metadata": {},
   "outputs": [],
   "source": [
    "import json\n",
    "import os\n",
    "\n",
    "interview_list = os.listdir(\"data/\")\n",
    "\"\"\"\n",
    "['interview_design.json',\n",
    " 'interview_os.json',\n",
    " 'interview_network.json',\n",
    " 'interiew_golang.json',\n",
    " 'interview_tools.json',\n",
    " 'interiew_database.json',\n",
    " 'interiew_algorithm.json']\n",
    "\"\"\"\n",
    "\n",
    "design = \"data/interview_design.json\"\n",
    "operating_system = \"data/interview_os.json\"\n",
    "network = \"data/interview_network.json\"\n",
    "golang = \"data/interiew_golang.json\"\n",
    "tools = \"data/interview_tools.json\"\n",
    "database = \"data/interiew_database.json\"\n",
    "algorithm = \"data/interiew_algorithm.json\"\n",
    "\n",
    "\n",
    "def convert_interview_md(filename, types):\n",
    "    f = open(filename, \"r\")\n",
    "    res = f.read()\n",
    "\n",
    "    jres = json.loads(res)\n",
    "    items = jres[\"data\"][\"list\"]\n",
    "    \n",
    "    if not os.path.exists(types):\n",
    "        os.makedirs(types)\n",
    "    index = 1\n",
    "    for item in items:\n",
    "        url = item.get(\"url\") or \"\"\n",
    "        questionName = item.get(\"questionName\")\n",
    "        filename = types + \"/\" +  str(index) + \". \" + questionName.replace(\"？\",\"\").split(\"、\")[-1].split(\".\")[-1] + \".md\"\n",
    "        filecontent = item.get(\"questionDetail\") or \"\"\n",
    "\n",
    "        with open(filename, \"w\") as f:\n",
    "            f.writelines(\"# \" + questionName)\n",
    "            f.write(filecontent)\n",
    "            f.write(\"\\r\\n\\r\\n\"+ url)\n",
    "        index += 1\n",
    "\n",
    "if __name__ == \"__main__\":\n",
    "    design = \"data/interview_design.json\"\n",
    "    operating_system = \"data/interview_os.json\"\n",
    "    network = \"data/interview_network.json\"\n",
    "    golang = \"data/interiew_golang.json\"\n",
    "    tools = \"data/interview_tools.json\"\n",
    "    database = \"data/interiew_database.json\"\n",
    "    algorithm = \"data/interiew_algorithm.json\"\n",
    "    # convert_interview_md(database, \"数据库\")\n",
    "    # convert_interview_md(design, \"系统设计\")\n",
    "    # convert_interview_md(operating_system, \"操作系统\")\n",
    "    # convert_interview_md(network, \"计算机原理与网络\")\n",
    "    convert_interview_md(golang, \"Golang\")\n",
    "    # convert_interview_md(tools, \"工具\")\n",
    "    # convert_interview_md(algorithm, \"算法与数据结构\")\n",
    "\n"
   ]
  }
 ],
 "metadata": {
  "interpreter": {
   "hash": "916dbcbb3f70747c44a77c7bcd40155683ae19c65e1c03b4aa3499c5328201f1"
  },
  "kernelspec": {
   "display_name": "Python 3.9.7 64-bit",
   "name": "python3"
  },
  "language_info": {
   "codemirror_mode": {
    "name": "ipython",
    "version": 3
   },
   "file_extension": ".py",
   "mimetype": "text/x-python",
   "name": "python",
   "nbconvert_exporter": "python",
   "pygments_lexer": "ipython3",
   "version": "3.9.7"
  },
  "orig_nbformat": 4
 },
 "nbformat": 4,
 "nbformat_minor": 2
}
